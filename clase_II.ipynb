{
 "cells": [
  {
   "cell_type": "markdown",
   "id": "8cca0af1-468e-4757-b16f-c9fb73cf3a5c",
   "metadata": {},
   "source": [
    "# oneAPI"
   ]
  },
  {
   "cell_type": "markdown",
   "id": "217bd9d5-3a1a-4c59-af6a-7e67994c0c86",
   "metadata": {},
   "source": [
    "Un camino hacia una computación acelerada libre de los inconvenientes económicos y técnicos de los modelos de programación propietarios.\n",
    "\n",
    "- Programación de arquitectura cruzada que provee libertad para elegir el mejor hardware\n",
    "- Basado en estándares industriales y especificaciones abiertas\n",
    "- Expone características de rendimiento de vanguardia de hardware reciente\n",
    "- Compatible con lenguajes y modelos de programación existentes para alto rendimiento "
   ]
  },
  {
   "cell_type": "markdown",
   "id": "4120b3be-b624-4be3-9a9a-a3073a15b592",
   "metadata": {},
   "source": [
    "## Introducción a SYCL"
   ]
  },
  {
   "cell_type": "markdown",
   "id": "5633a3d6-f265-4b3d-bd9c-3f744ea1ed5f",
   "metadata": {},
   "source": [
    "- SYCL es un lenguaje de programación basado en C++ y orientado para programación paralela\n",
    "\n",
    "- Un programa SYCL tiene dos partes, **host** y **device**, que pueden en principio ser codificadas en el mismo archivo fuente (**single source**)\n",
    "\n",
    "- A diferencia de C, SYCL requiere de dos sistemas de compilación, uno para el **host** y otro para el **device** deseado. Sin embargo, al compilar, solo un ejecutable es producido, y este ejecutable es usado para ambos host y device\n",
    "\n",
    "- SYCL es de alto nivel de abstracción y puede ser aplicado a dispositivos de cómputo heterogéneos"
   ]
  },
  {
   "cell_type": "markdown",
   "id": "058db476-f340-4382-ac34-6caf40926a87",
   "metadata": {},
   "source": [
    "### Implementaciones de SYCL"
   ]
  },
  {
   "cell_type": "markdown",
   "id": "0b6025db-462e-4bab-92dd-fc580f65ab27",
   "metadata": {},
   "source": [
    "SYCL está disponible para muchos API backends y dispositivos electrónicos tal y como se presenta en la siguiente figura.\n",
    "\n",
    "![alt_text](2020-05-sycl-landing-page-02b_1.jpg)\n",
    "*Fuente: https://www.khronos.org/api/index_2017/sycl*"
   ]
  },
  {
   "cell_type": "markdown",
   "id": "f642c09c-006e-4d0b-9d7c-a73806fea075",
   "metadata": {
    "id": "78bf4447-0230-4e5c-9889-87b421de4807"
   },
   "source": [
    "### Cómo implementar SYCL?"
   ]
  },
  {
   "cell_type": "markdown",
   "id": "44633ebd-bb25-4fdd-acbb-c483e446a39a",
   "metadata": {
    "id": "1102e67d-5b8a-422e-9981-95ba2f284e88"
   },
   "source": [
    "Para implementar un código SYCL se requiere los siguientes implementos:\n",
    "\n",
    "1. SYCL API o la librería de C++ que contiene las aplicaciones de SYCL\n",
    "\n",
    "2. SYCL runtime o tiempo de corrida que programa y ejecuta el código, lo compila, carga la data, los kernels, etc\n",
    "\n",
    "3. Dispositivo electrónico (Host) que emula el backend de SYCL\n",
    "\n",
    "4. Un backend como OpenCL\n",
    "\n",
    "5. SYCL compilador que es similar a un compilador de C++\n",
    "\n",
    "SYCL es una extensión de C++ y usa su misma sintaxis, sólo añadiendo comandos de paralelismo. En C, nosotros también usamos comandos de paralelización denominados \"pragma\" (ver clases del curso pasado). En si, tanto los comandos de paralalismo en SYCL como los pragmas en C son equivalentes en el propósito. La diferencia está en la flexibilidad y la responsabilidad que recae en el usuario. Los pragmas en C ofrecen paralización con poca intervención del usuario y sin realizar mayor cambio al código original. En SYCL, la implementación paralela es manual, y se puede tener mayor control del código, flexibilidad y potencialmente mayor rendimiento. Sin embargo dada su implementación manual, es más complejo de implementar.   "
   ]
  },
  {
   "cell_type": "markdown",
   "id": "ffcfd5bf-a708-45dd-a31b-70684d50670e",
   "metadata": {
    "id": "c388d66c-9be6-41bb-bbb2-201b9f0e2b8f"
   },
   "source": [
    "## El \"Hello World\" de SYCL"
   ]
  },
  {
   "cell_type": "markdown",
   "id": "371d06a7-e206-4310-9e94-5097f0125dab",
   "metadata": {
    "id": "4a7b2d52-b12a-49b3-a401-a7de0de9db73"
   },
   "source": [
    "Un ejemplo del tipo \"Hello world\" en C no es un práctico para SYCL que es orientado a programación paralela por lo que vamos a trabajar con un ejemplo que pueda ser paralizable. Para ello vamos a usar el ejemplo dado por Intel en el siguiente repositorio (https://github.com/oneapi-src/oneAPI-samples/blob/master/DirectProgramming/C%2B%2BSYCL/Jupyter/oneapi-essentials-training/01_oneAPI_Intro/src/simple.cpp)"
   ]
  },
  {
   "cell_type": "code",
   "execution_count": null,
   "id": "eb5f7a31-269d-4963-9fc0-f3af0db0ad96",
   "metadata": {
    "id": "4a6e46a1-a33b-43a0-8ccb-e5080b27072f"
   },
   "outputs": [],
   "source": [
    "%%writefile simple.cpp\n",
    "//==============================================================\n",
    "// Copyright © Intel Corporation\n",
    "//\n",
    "// SPDX-License-Identifier: MIT\n",
    "// =============================================================\n",
    "#include <sycl/sycl.hpp>\n",
    "using namespace sycl;\n",
    "static const int N = 16;\n",
    "int main(){\n",
    "  //# define queue which has default device associated for offload\n",
    "  queue q;\n",
    "  std::cout << \"Device: \" << q.get_device().get_info<info::device::name>() << \"\\n\";\n",
    "\n",
    "  //# Unified Shared Memory Allocation enables data access on host and device\n",
    "  int *data = malloc_shared<int>(N, q);\n",
    "\n",
    "  //# Initialization\n",
    "  for(int i=0; i<N; i++) data[i] = i;\n",
    "\n",
    "  //# Offload parallel computation to device\n",
    "  q.parallel_for(range<1>(N), [=] (id<1> i){\n",
    "    data[i] *= 2;\n",
    "  }).wait();\n",
    "\n",
    "  //# Print Output\n",
    "  for(int i=0; i<N; i++) std::cout << data[i] << \"\\n\";\n",
    "\n",
    "  free(data, q);\n",
    "  return 0;\n",
    "}"
   ]
  },
  {
   "cell_type": "markdown",
   "id": "8acf26ea-e716-4c14-8c5c-0deb0b2ca7ed",
   "metadata": {
    "id": "e6269f9e-5329-422c-862e-308837d224ff"
   },
   "source": [
    "Este archivo lo estamos creando desde Jupyter Notebooks, pero también podríamos crearlos desde Devcloud, usando las funciones \"mkdir\" para crear la carpeta de trabajo y \"touch\" para crear el archivo en blanco que lo podemos guardar como \"simple.cpp\". Nótese que la extensión del archivo es \".cpp\" dado que sycl es una extensión de C++ (.cpp es extensión de C++)."
   ]
  },
  {
   "cell_type": "markdown",
   "id": "b9dd8bdc-237a-4630-82e1-cc876be693b5",
   "metadata": {
    "id": "fc9fcecc-9eb0-4db2-b4e0-8f556e0fc1b7",
    "tags": []
   },
   "source": [
    "### Elementos del Código"
   ]
  },
  {
   "cell_type": "markdown",
   "id": "c6fd9463-f393-4b52-9ff6-33e4e121b06a",
   "metadata": {
    "id": "fdc2c192-48cf-4fdf-98bd-94f7d23898b5"
   },
   "source": [
    "**1. *#include <sycl/sycl.hpp>*** \n",
    "\n",
    "Archivo de cabecera o librería estándar de SYCL con todas las definiciones necesarias para correr el programa. "
   ]
  },
  {
   "cell_type": "markdown",
   "id": "de9271a8-7d8e-4b70-b630-72f24b10da99",
   "metadata": {
    "id": "9f82ddaa-8b1e-493e-8268-23ef2da430db"
   },
   "source": [
    "**2. using namespace sycl;**\n",
    "\n",
    "Espacios de nombres o \"namespace\" (C++): permiten definir espacios, en este caso sycl tanto para CPU como para GPU (Tomar en cuenta que solo alguno de los elementos del código corren en GPU, no todo). Si en caso no se definiera al espacio de nombre sycl, para llamar a las funciones de este paquete tendriamos que escribir de la siguiente forma:\n",
    "\n",
    "**sycl::queue q;** similar a **std::cout ...**"
   ]
  },
  {
   "cell_type": "markdown",
   "id": "b062a358-e31a-4ced-828e-6eb5e3556f63",
   "metadata": {
    "id": "9e4dd46f-5d49-447d-9bba-db21955a46c9"
   },
   "source": [
    "**3. static const int N = 16;** \n",
    "\n",
    "Estamos definiendo una variable del tipo integer \"N\" con un valor fijo de 16"
   ]
  },
  {
   "cell_type": "markdown",
   "id": "543d309b-8808-4e90-a1cf-6b0ba6fca332",
   "metadata": {
    "id": "072f3306-273e-4063-9845-ab3351241478"
   },
   "source": [
    "**4. queue q;**\n",
    "\n",
    "Dentro de \"main()\" que es como definimos empezamos el programa en C/C++, definimos un \"queue q\" (elemento propio de SYCL). Un \"queue\" entrega **command groups** para ser ejecutados por el “SYCL runtime”. No confundir con el *queue* usado para subir un job al cluster. \"queue\" o \"q\" que es como lo estamos definiendo a partir de ahora en el programa incluye muchas otras funciones como por ejemplo una función para obtener información del dispositivo dónde vamos a ejecutar el programa. Esta función es llamada *\"get_device\"* y es llamada en el programa a través de la notación punto \".\" que es propia de la programación orientada a objetos de C++. Cada objeto en C++ tiene características propias y funciones miembros y estás se llaman a través de la notación \".\":\n",
    "\n",
    "**q.get_device().get_info**"
   ]
  },
  {
   "cell_type": "markdown",
   "id": "0c90c9f6-f8f3-4318-8b87-52df1ae02c24",
   "metadata": {
    "id": "c7c9b255-537e-4ab0-a6e9-aa5cb1bed021"
   },
   "source": [
    "**5. std::cout << \"Device: \" << q.get_device().get_info<info::device::name>() << \"\\n\";**\n",
    "\n",
    "En esta línea vamos a imprimir información del dispositivo usado a través de las funciones de \"q\", usando notación punto \".\""
   ]
  },
  {
   "cell_type": "markdown",
   "id": "c9217788-f575-414b-a7e5-ab8b21b2eab6",
   "metadata": {
    "id": "vJQ2YnRZGGT8"
   },
   "source": [
    "**6. int *data = malloc_shared<int>(N, q);**\n",
    "\n",
    "Lugar de memoria con malloc_shared (memoria unificada) que tanto el CPU y GPU lo pueden ver. Es parte de la sintáxis de SYCL. Es una memoria para guardar enteros (tamaño N) y van a ser accedidos mediante el puntero \"*data*\". En C, el compilador asigna memoria y nosotros no intervenimos, pero con SYCL ese proceso es manual. Las variables punteros o pointer (*data*) que nos permite apuntar a direcciones de memoria RAM (espacios de memoria RAM), almacena memoria y se define con un \"*\". "
   ]
  },
  {
   "cell_type": "markdown",
   "id": "ae8bcc03-ddeb-4579-a037-c18c96cad9c9",
   "metadata": {
    "id": "12fbGA1vH3St"
   },
   "source": [
    "**7. for(int i=0; i<N; i++) data[i] = i;**\n",
    "\n",
    "For loop. Aquí accedemos a los elementos de data como un arreglo y llenamos los valores de data con números de 0 a 15."
   ]
  },
  {
   "cell_type": "markdown",
   "id": "07bf0c7b-b092-4063-be53-9a04833bcaf9",
   "metadata": {
    "id": "od-DFx93IbD0"
   },
   "source": [
    "**8.   Las tres líneas siguientes son pura sintáxis de SYCL**\n",
    "\n",
    "    q.parallel_for(range<1>(N), [=] (id<1> i){\n",
    "\n",
    "    data[i] *= 2;\n",
    "\n",
    "    }).wait();\n",
    "\n",
    "\n",
    "- Estas tres líneas difieren de C++, y son las únicas 3 líneas que se ejecuten en el GPU. Las líneas anteriores, todas se ejecutan en el CPU. Este programa comienza ejecutándose en el CPU (host) en el tiempo 0 y el GPU está en espera de algún comando para empezar a ejecutar y este empieza en *q.parallel_for*. \n",
    "- *parallel_for* es una función dentro de queue (q) y tenemos un número N de threats y los vamos a identificar con la variable i.  \n",
    "- El código que se ejecuta en el GPU es multiplicar cada elemento de la memoria apuntada por data por 2. Una alternativa equivalente de *= es *data[i] = data[i]*2;*\n",
    "- wait indica que el GPU va a esperar a que todo termine para que luego vuelva a comenzar a ejecutar el CPU. Cada threat es independiente y no todos podrían terminar al mismo tiempo y por ello es recomendable usar una función tipo *\"wait\"*."
   ]
  },
  {
   "cell_type": "markdown",
   "id": "7dca4356-2323-4e02-a8ca-5e81128f1fb4",
   "metadata": {
    "id": "wnOggjhSLp0F"
   },
   "source": [
    "**9.   for(int i=0; i<N; i++) std::cout << data[i] << \"\\n\";**\n",
    "\n",
    "Imprimimos en contenido de data que son el doble de los valores originales."
   ]
  },
  {
   "cell_type": "markdown",
   "id": "55d1c6e4-ff40-4aa6-96da-58c93c8401ba",
   "metadata": {
    "id": "e1WQrS1fMRZz"
   },
   "source": [
    "**10.   free(data, q);**\n",
    "\n",
    "Es una función de SYCL para liberar memoria. La función malloc ocupa la memoria RAM y cuando ya no la necesitamos podemos liberar la memoria con la función *free*. En C, usamos el std para asignar memoria y un vector por ejemplo y la libería std es la que se encarga de liberar la memoria no utilizada de manera automática (garbage collection). En SYCL, lo tenemos que hacer en forma manual. "
   ]
  },
  {
   "cell_type": "markdown",
   "id": "f4967110-d9ed-4c17-89fe-59badb206af3",
   "metadata": {
    "id": "dTBm6ox39ztA"
   },
   "source": [
    "## Correr el código \"simple.cpp\""
   ]
  },
  {
   "cell_type": "markdown",
   "id": "64c7c5b9-cbbe-4ce9-9fdb-e0ce4e39eb3f",
   "metadata": {
    "id": "CPf5t0JL-Fgz"
   },
   "source": [
    "1. Para poder correr este código, primero debemos conectarnos a DevCloud, así que el primer paso es abrir DevCloud a través de MobaXterm o del terminar usando el comando *ssh devcloud*\n",
    "2. Luego vamos a conectarnos a un nodo interactivo tomando en cuenta que es no es una buena práctica trabajar en el nodo de inicio.\n",
    "\n",
    "    *qsub -I -l nodes=1:gen11:ppn=2 -d .* (ejemplo)\n",
    "\n",
    "    Hay que tomar en cuenta que estamos conectando a un nodo que tiene gpu que es el tema del curso. \n",
    "3. Luego vamos a usar el comando *sycl-ls* para verificar qué plataformas en nuestro nodo pueden utilizar (correr) formato sycl. Esto es recomendable realizar antes de ejecutar nuestro código en sycl. \n",
    "\n",
    "    ![alt text](sycl_ls.jpg)\n",
    "\n",
    "En este nodo particular tenemos incluido FPGA (fichas de lego de los chip sin arquitectura definida dentro del chip), CPU y GPUs\n",
    "4. Para ejecutar nuestro archivo *simple.cpp* primero debemos compilar nuestro archivo fuente y obtener nuestro archivo binario ejecutable tal y como lo hacemos con un archivo fuente en C. Para eso usamos el siguiente comando (no olvidar que primero debemos ir a la carpeta donde tenemos guardado nuestro proyecto):\n",
    "\n",
    "    *dpcpp -o simple simple.cpp*\n",
    "\n",
    "    En este archivo, el compilador es *dpcpp*, el nombre del archivo binario será *simple*, y el archivo fuente es *simple.cpp*\n",
    "\n",
    "5. Luego ejecutamos el archivo binario que ha sido creado:\n",
    "\n",
    "    *./simple*\n",
    "\n",
    "    ![alt text](results.jpg)"
   ]
  },
  {
   "cell_type": "code",
   "execution_count": null,
   "id": "6f8fb6e0-bd83-4599-b66a-3e7bc5e603f8",
   "metadata": {},
   "outputs": [],
   "source": []
  }
 ],
 "metadata": {
  "kernelspec": {
   "display_name": "Python 3 (Intel® oneAPI 2023.0)",
   "language": "python",
   "name": "c009-intel_distribution_of_python_3_oneapi-beta05-python"
  },
  "language_info": {
   "codemirror_mode": {
    "name": "ipython",
    "version": 3
   },
   "file_extension": ".py",
   "mimetype": "text/x-python",
   "name": "python",
   "nbconvert_exporter": "python",
   "pygments_lexer": "ipython3",
   "version": "3.9.15"
  }
 },
 "nbformat": 4,
 "nbformat_minor": 5
}
