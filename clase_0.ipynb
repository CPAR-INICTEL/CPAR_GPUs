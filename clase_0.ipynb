{
 "cells": [
  {
   "cell_type": "markdown",
   "id": "771f0f78-0339-4014-b736-f0971f94ffd8",
   "metadata": {},
   "source": [
    "# Nociones básicas de git"
   ]
  },
  {
   "cell_type": "markdown",
   "id": "e0c76757-a0ce-4f5f-812f-e309105e8b6a",
   "metadata": {},
   "source": [
    "## Locaciones de git\n",
    "\n",
    "![alt text](git_loc.png)"
   ]
  },
  {
   "cell_type": "markdown",
   "id": "feff0c42-03ff-4513-a6f9-3666c9b4af9a",
   "metadata": {},
   "source": [
    "## Pasos iniciales\n",
    "\n",
    "1. Verificar si **git** está instalado en tu sistema. Para ello, abrir la línea de comando y escribir: `git --version`\n",
    "2. Instalar **git**, si fuese necesario. Dependiendo de tu sistema operativo, puedes elegir entre una de las opciones disponibles en [git-scm.com](https://git-scm.com/downloads). (Nota: para windows users, aceptar todas las opciones marcadas por default)."
   ]
  },
  {
   "cell_type": "markdown",
   "id": "ef763467-b630-4b56-8ebf-068c98f1a7e4",
   "metadata": {},
   "source": [
    "## Comandos claves en git\n",
    "\n",
    "1. `git init`: crea nuestro repositorio\n",
    "2. `git status`: muestra el status del repositorio. Nos permite observar qué cambios se han realizado, qué nuevos archivos no están siendo parte del sistema de control, etc\n",
    "3. `git add .`: añade todos los archivos que hayan tenido cambios durante nuestra sesión de trabajo al área de preparación\n",
    "4. `git commit`: crea un foto instantánea de nuestro repositorio en un momento específico. Con un commit, nosotros guardamos la historia del repositorio. Lo ideal es hacer commits de lo que uno quiera guardar y de manera frecuente\n",
    "5. `git push`: guardar lo creado/modificado en el repositorio local hacia el repositorio global. El repositorio global almacena nuestro trabajo en la nube y es como el repositorio de referencia. Los proveedores de repositorios globales son: GitLab, GitHub, Bitbucket, entre otros\n",
    "6. `git pull`: actualizar el repositorio local con respecto al global"
   ]
  },
  {
   "cell_type": "markdown",
   "id": "80abfcd0-80e5-460d-95a3-d90d9dfb562d",
   "metadata": {},
   "source": [
    "# Nociones básicas de DevCloud"
   ]
  },
  {
   "cell_type": "markdown",
   "id": "ec05eee8-ed56-437e-b794-51d8846d50b0",
   "metadata": {},
   "source": [
    "**DevCloud** es un sistema de desarrollo software que ofrece acceso a 1) hardware de alta performancia como CPUs, GPUs, FPGAs y 2) software de desarrollo y optimizacion para nuestras aplicaciones. El primer paso es crear una cuenta en **DevCloud**. Para ello ir a [Intel Login](https://consumer.intel.com/intelcorpb2c.onmicrosoft.com/B2C_1A_UnifiedLogin_SISU_CML_SAML/generic/login?entityId=www.intel.com&ui_locales=en). Una vez enviada nuestra solicitud de acceso, vamos a recibir nuestro código de usuario e instrucciones para configurar nuestro acceso a **DevCloud**. Para usuarios de *Windows*, podemos instalar la aplicación [MobaXterm](https://mobaxterm.mobatek.net/download-home-edition.html)."
   ]
  },
  {
   "cell_type": "markdown",
   "id": "eb66a411-3ec1-4a95-a80b-9a61a5ab101d",
   "metadata": {},
   "source": [
    "## Conectarse a DevCloud\n",
    "\n",
    "Antes de poder acceder al sistema, debemos configurarlo de la siguiente forma:\n",
    "\n",
    "1. Primero visitar esta página ([https://devcloud.intel.connect](https://devcloud.intel.com/oneapi/documentation/connect-with-ssh-windows-cygwin/)) y usar sus credenciales (nombre de usuario y password) para iniciar sesión.\n",
    "2. En la página seguir los pasos para la instalación automática o manual. "
   ]
  },
  {
   "cell_type": "markdown",
   "id": "e79b5490-6282-4ad3-af04-710afee2d7bb",
   "metadata": {},
   "source": [
    "## Comandos básicos de DevCloud\n",
    "\n",
    "- *ls* (Revisar el contenido de un directorio)\n",
    "- *pwd* (Para obtener la ruta de un directorio)\n",
    "- *nano* (Para abrir un archivo y modificarlo)\n",
    "- *cd* [directory-name] (Ir al directorio que queremos)\n",
    "- *cd* (Regresar al directorio principal)\n",
    "- *cd ..* (Ir al nivel superior)\n",
    "- *cd -* (Regresar al directorio anterior)\n",
    "- *mkdir* [-option] [directory-name] (Crear una nueva carpeta)\n",
    "- *touch* [-option] [file-name] (Crear un file en blanco)\n",
    "- *rmdir* [-option] [directory-name] (Remover una carpeta)\n",
    "- *rm* [-option] [file-name] (Remover un file)\n",
    "- *scp* <FILE_NAME> devcloud:<PATH_TO_DESTINATION> (Subir un archivo desde directorio local)\n",
    "- *scp* devcloud:<PATH_TO_FILE>/<FILE_NAME> .(dirección) (Descargar un archivo desde directorio local)\n",
    "- *qsub* ejemplo.sh (Ejecutar un job)\n",
    "- *qstat* (Explorar el estado de un job)\n",
    "- *qdel* 1875938.v-qsvr-1 (Cancelar un job)\n",
    "- *qsub* -I (job interactivo. **Siempre recomendable abrir uno y no trabajar en el nodo de inicio** )"
   ]
  },
  {
   "cell_type": "markdown",
   "id": "dbdf3976-f32c-44e4-b4f8-e91c91369405",
   "metadata": {},
   "source": [
    "## Referencias:\n",
    " \n",
    " - https://www.atlassian.com/git/tutorials/learn-git-with-bitbucket-cloud\n",
    " - https://git-scm.com/docs\n",
    " - https://www.intel.com/content/www/us/en/developer/videos/what-is-the-intel-devcloud.html#gs.q2hz4q\n",
    " - https://devcloud.intel.com/oneapi/documentation/connect-with-ssh-windows-cygwin"
   ]
  }
 ],
 "metadata": {
  "kernelspec": {
   "display_name": "Python 3 (Intel® oneAPI 2023.0)",
   "language": "python",
   "name": "c009-intel_distribution_of_python_3_oneapi-beta05-python"
  },
  "language_info": {
   "codemirror_mode": {
    "name": "ipython",
    "version": 3
   },
   "file_extension": ".py",
   "mimetype": "text/x-python",
   "name": "python",
   "nbconvert_exporter": "python",
   "pygments_lexer": "ipython3",
   "version": "3.9.15"
  }
 },
 "nbformat": 4,
 "nbformat_minor": 5
}
