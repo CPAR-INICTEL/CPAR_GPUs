{
 "cells": [
  {
   "cell_type": "markdown",
   "id": "f2a00919-6a3a-4033-9031-b3fbd3a504b6",
   "metadata": {
    "id": "f2a00919-6a3a-4033-9031-b3fbd3a504b6"
   },
   "source": [
    "# Refrescando: Jupyter notebooks"
   ]
  },
  {
   "cell_type": "markdown",
   "id": "88bcd410-2d49-4a85-a5eb-f80fe82d0f37",
   "metadata": {
    "id": "88bcd410-2d49-4a85-a5eb-f80fe82d0f37"
   },
   "source": [
    "Plataforma equipada con kernels para usar diferentes lenguajes de programación como C++, Python, R, Julia, etc., sin la necesidad de instalar alguno de estos programas. "
   ]
  },
  {
   "cell_type": "markdown",
   "id": "0ca13809-e123-4655-b666-e99f0c53129c",
   "metadata": {
    "id": "0ca13809-e123-4655-b666-e99f0c53129c"
   },
   "source": [
    "## Ejemplo 1: Hello World in C"
   ]
  },
  {
   "cell_type": "markdown",
   "id": "21e6d89b-7773-4512-801b-4358718db083",
   "metadata": {
    "id": "21e6d89b-7773-4512-801b-4358718db083"
   },
   "source": [
    "En este ejemplo, vamos a recordar como correr un job simple \"Hello World\" para refrescar nuestros conocimientos en Jupyter notebook."
   ]
  },
  {
   "cell_type": "markdown",
   "id": "76b18a15-9657-49d8-9bd7-d17358fed55f",
   "metadata": {
    "id": "76b18a15-9657-49d8-9bd7-d17358fed55f"
   },
   "source": [
    "1. El primer paso es crear nuestro archivo fuente \"Hello World\". En una nueva celda en Jupyter notebooks ejecutar la función “%%writefile”. “writefile” permite escribir un código en jupyter notebooks y guardarlo como file. En este caso y dado que queremos escribir un archivo fuente en C vamos a colocar luego de writefile el nombre de nuestro file con la extensión .cpp. Para inicializar el archivo, debemos de usar en el inicio \"#include <stdio.h>\" que indica al compilador insertar el contenido de la librería estandar stdio en el archivo fuente que estamos creando. Finalmente escribimos el cuerpo de la función “hello world”. int main indica que nuestra función debe regresar un valor integer al final de la ejecución del programa. Por ello, como buena práctica terminamos el código con return 0; \n",
    "La función “printf” viene del término en inglés imprimir con formato \"print formatted\" e imprime un string o conjunto de caracteres en C."
   ]
  },
  {
   "cell_type": "code",
   "execution_count": 3,
   "id": "60c76113-5de9-4de6-ba97-439279e4ae09",
   "metadata": {
    "id": "60c76113-5de9-4de6-ba97-439279e4ae09",
    "outputId": "83ee1f5e-9037-4c30-c53b-7780fbe38813"
   },
   "outputs": [
    {
     "name": "stdout",
     "output_type": "stream",
     "text": [
      "Writing Hello_C.cpp\n"
     ]
    }
   ],
   "source": [
    "%%writefile Hello_C.cpp\n",
    "#include <stdio.h>\n",
    "\n",
    "int main()\n",
    "{\n",
    "    printf(\"Hello World\");\n",
    "\n",
    "    return 0;\n",
    "}"
   ]
  },
  {
   "cell_type": "markdown",
   "id": "1ebb891a-980f-4df1-8466-4f63d8a67342",
   "metadata": {
    "id": "1ebb891a-980f-4df1-8466-4f63d8a67342"
   },
   "source": [
    "2. Este archivo debe ser compilado primero y ejecutado para poder observar nuestro “Hello World”. Para ello debemos crear un archivo de extensión .pbs y colocar el nombre del job (-N), y darle los recursos necesarios para que el job corra cómo el número de nodos (nodes) o el tiempo requerido para que corra el job (walltime).  "
   ]
  },
  {
   "cell_type": "code",
   "execution_count": 9,
   "id": "facff14d-2c26-4b7d-ba6d-cdd65a7fc6ba",
   "metadata": {
    "id": "facff14d-2c26-4b7d-ba6d-cdd65a7fc6ba",
    "outputId": "c39d657b-b9f9-4072-d0f5-fd44e9f126d2"
   },
   "outputs": [
    {
     "name": "stdout",
     "output_type": "stream",
     "text": [
      "Overwriting compi_hello.pbs\n"
     ]
    }
   ],
   "source": [
    "%%writefile compi_hello.pbs\n",
    "#PBS -S /bin/bash\n",
    "#\n",
    "#PBS -N hello_A\n",
    "#PBS -l nodes=1\n",
    "# /home/u183985/Compu_paralela_III/CPAR_GPUs\n",
    "\n",
    "dpcpp -o $HOME/Compu_paralela_III/CPAR_GPUs/run_plus $HOME/Compu_paralela_III/CPAR_GPUs/Hello_C.cpp\n",
    "\n",
    "$HOME/Compu_paralela_III/CPAR_GPUs/run_plus"
   ]
  },
  {
   "cell_type": "markdown",
   "id": "ba29df90-eea6-4bc5-8c4e-de1e9fe41f47",
   "metadata": {
    "id": "ba29df90-eea6-4bc5-8c4e-de1e9fe41f47"
   },
   "source": [
    "3. Ejecutar el archivo hello world compilado usando el archivo \"compi_hello.pbs\""
   ]
  },
  {
   "cell_type": "code",
   "execution_count": 10,
   "id": "399c5458-c7e0-4886-82b8-f259f61dfd50",
   "metadata": {
    "id": "399c5458-c7e0-4886-82b8-f259f61dfd50",
    "outputId": "a25221b3-03ec-4267-a552-b8ac950fb497"
   },
   "outputs": [
    {
     "name": "stdout",
     "output_type": "stream",
     "text": [
      "2196265.v-qsvr-1.aidevcloud\n"
     ]
    }
   ],
   "source": [
    "!qsub compi_hello.pbs"
   ]
  },
  {
   "cell_type": "code",
   "execution_count": 12,
   "id": "5e365cb7-cb62-4455-9327-e786d784cde8",
   "metadata": {
    "id": "5e365cb7-cb62-4455-9327-e786d784cde8",
    "outputId": "60e69503-d9cd-47c5-c336-ffc9243f35c0"
   },
   "outputs": [
    {
     "name": "stdout",
     "output_type": "stream",
     "text": [
      "Job ID                    Name             User            Time Use S Queue\n",
      "------------------------- ---------------- --------------- -------- - -----\n",
      "2196223.v-qsvr-1           ...ub-singleuser u183985         00:00:18 R jupyterhub     \n",
      "2196242.v-qsvr-1           STDIN            u183985         00:00:04 R batch          \n"
     ]
    }
   ],
   "source": [
    "!qstat"
   ]
  },
  {
   "cell_type": "markdown",
   "id": "2f30a255-fe63-4b8a-8483-af6175fff46d",
   "metadata": {},
   "source": [
    "# Referencias:\n",
    "- https://jupyter.org/\n",
    "- https://devcloud.intel.com/oneapi/get_started/baseTrainingModules/"
   ]
  }
 ],
 "metadata": {
  "colab": {
   "provenance": []
  },
  "kernelspec": {
   "display_name": "Python 3 (Intel® oneAPI 2023.0)",
   "language": "python",
   "name": "c009-intel_distribution_of_python_3_oneapi-beta05-python"
  },
  "language_info": {
   "codemirror_mode": {
    "name": "ipython",
    "version": 3
   },
   "file_extension": ".py",
   "mimetype": "text/x-python",
   "name": "python",
   "nbconvert_exporter": "python",
   "pygments_lexer": "ipython3",
   "version": "3.9.15"
  }
 },
 "nbformat": 4,
 "nbformat_minor": 5
}
