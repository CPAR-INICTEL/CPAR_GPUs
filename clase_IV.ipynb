{
 "cells": [
  {
   "cell_type": "markdown",
   "id": "fe063910-b61a-4792-93c5-c3c41f07ac73",
   "metadata": {},
   "source": [
    "# Intel® Advisor"
   ]
  },
  {
   "cell_type": "markdown",
   "id": "dd3c1e43-8ae9-464b-93b7-5fcce9a1b06f",
   "metadata": {},
   "source": [
    "Es una herramienta que puede ser aplicada a algoritmos escritos en C, C++, Fortran, OpenMP, SYCL, Python u OpenCL para garantizar que estos algoritmos estén siendo usados a su máximo potencial en procesadores modernos. Esto es particularmente importante si se trabaja con algoritmos codificados para arquitecturas múltiples, es decir que integran CPUs, GPUs, FPGAs, etc. SYCL usado para computación paralela aplicado a GPUs también contiene partes que se ejecutan en CPUs y por lo tanto representa un ejemplo de aplicación de Advisor. "
   ]
  },
  {
   "cell_type": "markdown",
   "id": "a15c5255-f003-40cb-b591-5d63e921b804",
   "metadata": {},
   "source": [
    "# Referencias:\n",
    "- https://www.intel.com/content/www/us/en/developer/tools/oneapi/advisor.html#gs.qpvb2a"
   ]
  },
  {
   "cell_type": "code",
   "execution_count": null,
   "id": "1b05aa97-e400-48d2-b70e-742cec408d22",
   "metadata": {},
   "outputs": [],
   "source": []
  }
 ],
 "metadata": {
  "kernelspec": {
   "display_name": "Python 3 (Intel® oneAPI 2023.0)",
   "language": "python",
   "name": "c009-intel_distribution_of_python_3_oneapi-beta05-python"
  },
  "language_info": {
   "codemirror_mode": {
    "name": "ipython",
    "version": 3
   },
   "file_extension": ".py",
   "mimetype": "text/x-python",
   "name": "python",
   "nbconvert_exporter": "python",
   "pygments_lexer": "ipython3",
   "version": "3.9.15"
  }
 },
 "nbformat": 4,
 "nbformat_minor": 5
}
