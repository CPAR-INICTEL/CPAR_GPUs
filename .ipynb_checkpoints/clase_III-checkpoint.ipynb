{
 "cells": [
  {
   "cell_type": "markdown",
   "id": "94174e6a-8ba6-4cc0-a365-eaef078eb616",
   "metadata": {},
   "source": [
    "# VTune (Intel VTune Profiler)"
   ]
  },
  {
   "cell_type": "markdown",
   "id": "dda94a45-f90e-49e4-9922-878c9d0533be",
   "metadata": {},
   "source": [
    "- **Vtune** es una herramienta de profiling para analizar la performance de algoritmos (CPUs, GPUs, FPGAs).\n",
    "- Se puede usar a través de la línea de comando o de GUIs en Linux, Windows, android, etc.\n",
    "- El proceso es estadístico y no se puede esperar el mismo resultado si el proceso se repite, pero los patrones se mantienen.\n",
    "\n",
    "Los típicos cuellos de botella que uno puede encontrar en los algoritmos y que son detectados por VTune incluyen:\n",
    "\n",
    "- Threading ineficiente\n",
    "- Baja concurrencia \n",
    "- Problemas de acceso de memoria\n",
    "- I/O wait time\n",
    "- Instrucciones innecesarias\n",
    "\n",
    "## Cómo usar Vtune?\n",
    "\n",
    "![alt text](vtune.png)\n",
    "\n",
    "Vtune puede ejecutarse directamente online o desde la línea de comando de DevCloud. En experiencias pasadas, la conexión online de Vtune ha fallado sin causa aparente, por ello sugerimos trabajar con la línea de comando. Desafortunadamente en DevCloud no hay una interfaz GUI para visualizar los resultados. La alternativa es correr y guardar los resultados en DevCloud y visualizar los resultados de manera offline instalando VTune en nuestras computadoras. Para ello, el primer paso consiste en instalar VTune. Para ello tenemos que visitar la siguiente página [descarga_Vtune](https://www.intel.com/content/www/us/en/developer/tools/oneapi/vtune-profiler-download.html?operatingsystem=window&distributions=webdownload&options=offline) y elegimos el sistema operativo y el tipo de instalación deseada. Un ejemplo de los setting de instalación se muestran en la figura siguiente:\n",
    "\n",
    "![alt text](vtune_desc.png)\n",
    "\n",
    "En el caso de la figura, estamos escogiendo el tipo de instalador offline que es usado para un caso en el que la conexión de internet no es estable. Luego seguir los pasos de instalación por default además de la configuración recomendada. Nótese que para la instalación, nos piden instalar complementariamente Microsoft Visual Studio. Por el momento vamos a proceder la instalación sin Visual Studio y si es necesario se puede complementar luego de instalar VTune. Luego de instalar, abrimos VTune. \n",
    "\n",
    "![alt text](vtune_desk.png)\n",
    "\n",
    "La idea con tener VTune instalado en nuestra computadora no es para correr el profiler de manera local, sino es sólo usado para visualizar los resultados obtenidos al ejecutar VTune en DevCloud.\n",
    "\n"
   ]
  },
  {
   "cell_type": "markdown",
   "id": "213ade32-8cba-44bf-9cff-32ee0b5616c8",
   "metadata": {},
   "source": [
    "## \"Hello World\" de SYCL en Vtune"
   ]
  },
  {
   "cell_type": "code",
   "execution_count": null,
   "id": "1d379fa0-fdcc-4c63-b0bf-81386665be04",
   "metadata": {},
   "outputs": [],
   "source": []
  }
 ],
 "metadata": {
  "kernelspec": {
   "display_name": "Python 3 (Intel® oneAPI 2023.0)",
   "language": "python",
   "name": "c009-intel_distribution_of_python_3_oneapi-beta05-python"
  },
  "language_info": {
   "codemirror_mode": {
    "name": "ipython",
    "version": 3
   },
   "file_extension": ".py",
   "mimetype": "text/x-python",
   "name": "python",
   "nbconvert_exporter": "python",
   "pygments_lexer": "ipython3",
   "version": "3.9.15"
  }
 },
 "nbformat": 4,
 "nbformat_minor": 5
}
